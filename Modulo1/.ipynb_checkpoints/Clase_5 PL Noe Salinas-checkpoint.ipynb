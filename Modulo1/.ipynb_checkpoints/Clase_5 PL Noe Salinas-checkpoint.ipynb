{
 "cells": [
  {
   "cell_type": "code",
   "execution_count": 15,
   "metadata": {
    "collapsed": true
   },
   "outputs": [],
   "source": [
    "import matplotlib.pyplot as plt\n",
    "%matplotlib inline\n",
    "import numpy as np\n"
   ]
  },
  {
   "cell_type": "markdown",
   "metadata": {},
   "source": [
    "\\begin{equation}\n",
    "\\begin{array}{ll}\n",
    "\\min_{x_1,x_2} & -x_1-x_2 \\\\\n",
    "\\text{s. a. }  & 50x_1+24x_2\\leq 2400 \\\\\n",
    "               & 30x_1+33x_2\\leq 2100 \\\\\n",
    "               & -x_1\\leq -45 \\\\\n",
    "               & -x_2\\leq -5,\n",
    "\\end{array}\n",
    "\\end{equation}"
   ]
  },
  {
   "cell_type": "code",
   "execution_count": 16,
   "metadata": {
    "collapsed": true
   },
   "outputs": [],
   "source": [
    "def x2_v1(x1):\n",
    "    return(2400 - 50*x1)/24\n",
    "def x2_v2(x1):\n",
    "    return(2100 - 30*x1)/33"
   ]
  },
  {
   "cell_type": "code",
   "execution_count": 17,
   "metadata": {
    "collapsed": true
   },
   "outputs": [],
   "source": [
    "x1 = np.linspace(0,100)"
   ]
  },
  {
   "cell_type": "code",
   "execution_count": 18,
   "metadata": {},
   "outputs": [
    {
     "data": {
      "image/png": "[encoded data removed]",
      "text/plain": [
       "<matplotlib.figure.Figure at 0xf6e854c4e0>"
      ]
     },
     "metadata": {},
     "output_type": "display_data"
    }
   ],
   "source": [
    "plt.plot(x1, x2_v1(x1), 'magenta', label = \"EQ1\") #desigualdad 1\n",
    "plt.plot(x1, x2_v2(x1),label = \"EQ2\") # desigualdad 2\n",
    "plt.vlines(45,-100,100, label = \"EQ3\", color = \"red\")\n",
    "plt.hlines(5,0,100, label = \"EQ4\")\n",
    "plt.xlim(44,47)\n",
    "plt.ylim(2,10)\n",
    "plt.scatter([45],[6.25],color = \"gray\",)\n",
    "plt.scatter([45.6],[5],color = \"gray\",)\n",
    "plt.legend()\n",
    "plt.xlabel(\"$x_1$\",fontsize = 18)\n",
    "plt.ylabel(\"$x_2$\",fontsize = 18)\n",
    "plt.show()"
   ]
  },
  {
   "cell_type": "code",
   "execution_count": 19,
   "metadata": {
    "collapsed": true
   },
   "outputs": [],
   "source": [
    "import scipy.optimize as opt"
   ]
  },
  {
   "cell_type": "code",
   "execution_count": 20,
   "metadata": {
    "collapsed": true
   },
   "outputs": [],
   "source": [
    "c = np.array([-1, -1]) #COEFICIENTES DE LA FUNCION OBJETIVO X1+X2\n",
    "A = np.array([[50, 24], [30, 33], [-1, 0], [0, -1]])#COEFICIENTES DE LAS DESIGUALDADES\n",
    "b = np.array([2400, 2100, -45, -5])#LOS RESULTADOS DE LAS DESIGUALDADES\n",
    "x1_bound = (45, None)\n",
    "x2_bound = (5, None)"
   ]
  },
  {
   "cell_type": "code",
   "execution_count": 21,
   "metadata": {},
   "outputs": [
    {
     "name": "stdout",
     "output_type": "stream",
     "text": [
      "Optimization terminated successfully.\n",
      "         Current function value: -51.250000  \n",
      "         Iterations: 6\n"
     ]
    }
   ],
   "source": [
    "res = opt.linprog(c, A_ub=A, b_ub=b, \n",
    "                  bounds=(x1_bound,x2_bound),options={'disp': True})"
   ]
  },
  {
   "cell_type": "code",
   "execution_count": 22,
   "metadata": {},
   "outputs": [
    {
     "data": {
      "text/plain": [
       "     fun: -51.25\n",
       " message: 'Optimization terminated successfully.'\n",
       "     nit: 6\n",
       "   slack: array([   0.  ,  543.75,    0.  ,    1.25,    0.  ,    1.25])\n",
       "  status: 0\n",
       " success: True\n",
       "       x: array([ 45.  ,   6.25])"
      ]
     },
     "execution_count": 22,
     "metadata": {},
     "output_type": "execute_result"
    }
   ],
   "source": [
    "res"
   ]
  },
  {
   "cell_type": "code",
   "execution_count": 23,
   "metadata": {},
   "outputs": [
    {
     "data": {
      "text/plain": [
       "array([ 45.  ,   6.25])"
      ]
     },
     "execution_count": 23,
     "metadata": {},
     "output_type": "execute_result"
    }
   ],
   "source": [
    "res.x"
   ]
  },
  {
   "cell_type": "markdown",
   "metadata": {},
   "source": [
    "# **Actividad.** Mónica hace aretes y cadenitas de joyería. Es tan buena, que todo lo que hace lo vende.\n",
    "\n",
    "Le toma 30 minutos hacer un par de aretes y una hora hacer una cadenita, y como Mónica también es estudihambre, solo dispone de 10 horas a la semana para hacer las joyas. Por otra parte, el material que compra solo le alcanza para hacer 15 unidades (el par de aretes cuenta como unidad) de joyas por semana.\n",
    "\n",
    "La utilidad que le deja la venta de las joyas es \\$15 en cada par de aretes y \\$20 en cada cadenita.\n",
    "\n",
    "¿Cuántos pares de aretes y cuántas cadenitas debería hacer Mónica para maximizar su utilidad?"
   ]
  },
  {
   "cell_type": "code",
   "execution_count": 6,
   "metadata": {
    "collapsed": true
   },
   "outputs": [],
   "source": [
    "import matplotlib.pyplot as plt\n",
    "%matplotlib inline\n",
    "import numpy as np\n",
    "import scipy.optimize as opt"
   ]
  },
  {
   "cell_type": "code",
   "execution_count": 9,
   "metadata": {
    "collapsed": true
   },
   "outputs": [],
   "source": [
    "c = np.array([-15, -20])\n",
    "A = np.array([[0.5, 1], [1, 1]])\n",
    "b = np.array([10, 15])\n",
    "x1_cota = (0, None)\n",
    "x2_cota = (0, None)"
   ]
  },
  {
   "cell_type": "code",
   "execution_count": 12,
   "metadata": {},
   "outputs": [
    {
     "name": "stdout",
     "output_type": "stream",
     "text": [
      "Optimization terminated successfully.\n",
      "         Current function value: -250.000000 \n",
      "         Iterations: 2\n"
     ]
    }
   ],
   "source": [
    "res = opt.linprog(c, A_ub=A, b_ub=b, \n",
    "                  bounds=(x1_cota,x2_cota),options={'disp': True})\n"
   ]
  },
  {
   "cell_type": "code",
   "execution_count": 13,
   "metadata": {},
   "outputs": [
    {
     "data": {
      "text/plain": [
       "     fun: -250.0\n",
       " message: 'Optimization terminated successfully.'\n",
       "     nit: 2\n",
       "   slack: array([ 0.,  0.])\n",
       "  status: 0\n",
       " success: True\n",
       "       x: array([ 10.,   5.])"
      ]
     },
     "execution_count": 13,
     "metadata": {},
     "output_type": "execute_result"
    }
   ],
   "source": [
    "res"
   ]
  },
  {
   "cell_type": "code",
   "execution_count": 14,
   "metadata": {},
   "outputs": [
    {
     "data": {
      "image/png": "[encoded data removed]",
      "text/plain": [
       "<matplotlib.figure.Figure at 0xf6e82b5f60>"
      ]
     },
     "metadata": {},
     "output_type": "display_data"
    }
   ],
   "source": [
    "x1 = np.linspace(0,100)\n",
    "def a_v1(x1):\n",
    "    return(10-x1)/.5\n",
    "def a_v2(x1):\n",
    "    return(15 - x1)\n",
    "\n",
    "\n",
    "plt.plot(x1, a_v1(x1), 'magenta', label = \"EQ1\") #desigualdad 1\n",
    "plt.plot(x1, a_v2(x1),label = \"EQ2\") # desigualdad 2\n",
    "plt.vlines(0,0,15, label = \"EQ3\", color = \"red\")\n",
    "plt.hlines(0,0,15, label = \"EQ4\")\n",
    "plt.scatter([res.x[1]],[res.x[0]])\n",
    "plt.xlim(-1,10)\n",
    "plt.ylim(-1,16)\n",
    "\n",
    "plt.legend()\n",
    "plt.xlabel(\"$Aretes$\",fontsize = 18)\n",
    "plt.ylabel(\"$Collares$\",fontsize = 18)\n",
    "plt.show()"
   ]
  },
  {
   "cell_type": "markdown",
   "metadata": {},
   "source": [
    "# Enviar Cerveza"
   ]
  },
  {
   "cell_type": "code",
   "execution_count": 29,
   "metadata": {},
   "outputs": [
    {
     "data": {
      "text/html": [
       "<div>\n",
       "<style>\n",
       "    .dataframe thead tr:only-child th {\n",
       "        text-align: right;\n",
       "    }\n",
       "\n",
       "    .dataframe thead th {\n",
       "        text-align: left;\n",
       "    }\n",
       "\n",
       "    .dataframe tbody tr th {\n",
       "        vertical-align: top;\n",
       "    }\n",
       "</style>\n",
       "<table border=\"1\" class=\"dataframe\">\n",
       "  <thead>\n",
       "    <tr style=\"text-align: right;\">\n",
       "      <th></th>\n",
       "      <th>Bar1</th>\n",
       "      <th>Bar2</th>\n",
       "      <th>Bar3</th>\n",
       "      <th>Bar4</th>\n",
       "      <th>Bar5</th>\n",
       "    </tr>\n",
       "  </thead>\n",
       "  <tbody>\n",
       "    <tr>\n",
       "      <th>CerveceriaA</th>\n",
       "      <td>2</td>\n",
       "      <td>4</td>\n",
       "      <td>5</td>\n",
       "      <td>2</td>\n",
       "      <td>1</td>\n",
       "    </tr>\n",
       "    <tr>\n",
       "      <th>CerveceriaB</th>\n",
       "      <td>3</td>\n",
       "      <td>1</td>\n",
       "      <td>3</td>\n",
       "      <td>2</td>\n",
       "      <td>3</td>\n",
       "    </tr>\n",
       "  </tbody>\n",
       "</table>\n",
       "</div>"
      ],
      "text/plain": [
       "             Bar1  Bar2  Bar3  Bar4  Bar5\n",
       "CerveceriaA     2     4     5     2     1\n",
       "CerveceriaB     3     1     3     2     3"
      ]
     },
     "execution_count": 29,
     "metadata": {},
     "output_type": "execute_result"
    }
   ],
   "source": [
    "import pandas as pd\n",
    "import matplotlib.pyplot as plt\n",
    "%matplotlib inline\n",
    "import numpy as np\n",
    "import scipy.optimize as opt\n",
    "\n",
    "info = pd.DataFrame({'Bar1': [2, 3], 'Bar2': [4, 1], 'Bar3': [5, 3], 'Bar4': [2, 2], 'Bar5': [1, 3]}, index = ['CerveceriaA', 'CerveceriaB'])\n",
    "info"
   ]
  },
  {
   "cell_type": "code",
   "execution_count": 30,
   "metadata": {},
   "outputs": [
    {
     "data": {
      "text/plain": [
       "(array([2, 4, 5, 2, 1, 3, 1, 3, 2, 3]),\n",
       " array([[ 1,  1,  1,  1,  1,  0,  0,  0,  0,  0],\n",
       "        [ 0,  0,  0,  0,  0,  1,  1,  1,  1,  1],\n",
       "        [-1,  0,  0,  0,  0, -1,  0,  0,  0,  0],\n",
       "        [ 0, -1,  0,  0,  0,  0, -1,  0,  0,  0],\n",
       "        [ 0,  0, -1,  0,  0,  0,  0, -1,  0,  0],\n",
       "        [ 0,  0,  0, -1,  0,  0,  0,  0, -1,  0],\n",
       "        [ 0,  0,  0,  0, -1,  0,  0,  0,  0, -1]]),\n",
       " array([ 1000,  4000,  -500,  -900, -1800,  -200,  -700]))"
      ]
     },
     "execution_count": 30,
     "metadata": {},
     "output_type": "execute_result"
    }
   ],
   "source": [
    "c = np.array([2,4,5,2,1,3,1,3,2,3])\n",
    "A = np.array([[1,1,1,1,1,0,0,0,0,0],[0,0,0,0,0,1,1,1,1,1],[-1, 0, 0, 0, 0,-1,0,0,0,0],[0,-1,0,0,0,0,-1,0,0,0],[0,0,-1,0,0,0,0,-1,0,0],[0,0,0,-1,0,0,0,0,-1,0],[0,0,0,0,-1,0,0,0,0,-1]])\n",
    "b = np.array([1000,4000,-500,-900,-1800,-200,-700])\n",
    "x1_cota = (0,None )\n",
    "x2_cota = (0,None)\n",
    "x3_cota = (0,None)\n",
    "x4_cota = (0,None)\n",
    "x5_cota = (0,None)\n",
    "x6_cota = (0,None)\n",
    "x7_cota = (0,None)\n",
    "x8_cota = (0,None)\n",
    "x9_cota = (0,None)\n",
    "x10_cota = (0,None)\n",
    "c,A,b"
   ]
  },
  {
   "cell_type": "code",
   "execution_count": 31,
   "metadata": {},
   "outputs": [
    {
     "data": {
      "text/plain": [
       "     fun: 8600.0\n",
       " message: 'Optimization terminated successfully.'\n",
       "     nit: 10\n",
       "   slack: array([   0.,  900.,    0.,    0.,    0.,    0.,    0.])\n",
       "  status: 0\n",
       " success: True\n",
       "       x: array([  300.,     0.,     0.,     0.,   700.,   200.,   900.,  1800.,\n",
       "         200.,     0.])"
      ]
     },
     "execution_count": 31,
     "metadata": {},
     "output_type": "execute_result"
    }
   ],
   "source": [
    "res = opt.linprog(c, A_ub=A, b_ub=b,\n",
    "                   bounds = (x1_cota,x2_cota,x3_cota,x4_cota,x5_cota,x6_cota,x7_cota,x8_cota,x9_cota,x10_cota))\n",
    "res"
   ]
  },
  {
   "cell_type": "code",
   "execution_count": 32,
   "metadata": {},
   "outputs": [
    {
     "name": "stdout",
     "output_type": "stream",
     "text": [
      "El menor precio por todo es 8600.0\n"
     ]
    }
   ],
   "source": [
    "print(\"El menor precio por todo es\", res.fun)"
   ]
  },
  {
   "cell_type": "code",
   "execution_count": 37,
   "metadata": {},
   "outputs": [
    {
     "name": "stdout",
     "output_type": "stream",
     "text": [
      "El valor de x_ 1 es de  300.0\n",
      "El valor de x_ 2 es de  0.0\n",
      "El valor de x_ 3 es de  0.0\n",
      "El valor de x_ 4 es de  0.0\n",
      "El valor de x_ 5 es de  700.0\n",
      "El valor de x_ 6 es de  200.0\n",
      "El valor de x_ 7 es de  900.0\n",
      "El valor de x_ 8 es de  1800.0\n",
      "El valor de x_ 9 es de  200.0\n",
      "El valor de x_ 10 es de  0.0\n"
     ]
    }
   ],
   "source": [
    "for i in range (0,10,1):\n",
    "    print(\"El valor de x_\",i+1,\"es de \",res.x[i])"
   ]
  },
  {
   "cell_type": "markdown",
   "metadata": {
    "collapsed": true
   },
   "source": [
    "# Dieta Optima"
   ]
  },
  {
   "cell_type": "code",
   "execution_count": 38,
   "metadata": {
    "collapsed": true
   },
   "outputs": [],
   "source": [
    "import pandas as pd\n",
    "import matplotlib.pyplot as plt\n",
    "%matplotlib inline\n",
    "import numpy as np\n",
    "import scipy.optimize as opt"
   ]
  },
  {
   "cell_type": "code",
   "execution_count": 39,
   "metadata": {},
   "outputs": [
    {
     "data": {
      "text/plain": [
       "(array([ 0.013,  0.008,  0.01 ,  0.002,  0.005,  0.001]),\n",
       " array([[-1.   , -1.   , -1.   , -1.   , -1.   , -1.   ],\n",
       "        [-0.1  , -0.2  , -0.15 ,  0.   , -0.04 ,  0.   ],\n",
       "        [-0.08 , -0.1  , -0.11 , -0.01 , -0.01 ,  0.   ],\n",
       "        [-0.001, -0.005, -0.005, -0.1  , -0.15 ,  0.   ],\n",
       "        [-0.002, -0.005, -0.007, -0.002, -0.008,  0.   ]]),\n",
       " array([-100. ,   -8. ,   -6. ,    2. ,    0.4]))"
      ]
     },
     "execution_count": 39,
     "metadata": {},
     "output_type": "execute_result"
    }
   ],
   "source": [
    "c = np.array([.013,.008,.010,.002,.005,.001])\n",
    "A = np.array([[-1,-1,-1,-1,-1,-1],[-.10,-.20,-.15,0,-.04,0],[-.08,-.10,-.11,-.01,-.01,0],[-.001,-.005,-.005,-.10,-.15,0],[-.002,-.005,-.007,-.002,-.008,0]])\n",
    "b = np.array([-100,-8,-6,2,.4])\n",
    "x1_cota = (0,None )\n",
    "x2_cota = (0,None)\n",
    "x3_cota = (0,None)\n",
    "x4_cota = (0,None)\n",
    "x5_cota = (0,None)\n",
    "x6_cota = (0,None)\n",
    "\n",
    "c,A,b"
   ]
  },
  {
   "cell_type": "code",
   "execution_count": 40,
   "metadata": {},
   "outputs": [
    {
     "data": {
      "text/plain": [
       "     fun: 0.52000000000000002\n",
       " message: 'Optimization terminated successfully.'\n",
       "     nit: 4\n",
       "   slack: array([ 2.3,  0.7,  0. ,  0. ,  0. ])\n",
       "  status: 0\n",
       " success: True\n",
       "       x: array([  0.,  60.,   0.,   0.,   0.,  40.])"
      ]
     },
     "execution_count": 40,
     "metadata": {},
     "output_type": "execute_result"
    }
   ],
   "source": [
    "res = opt.linprog(c, A_ub=A, b_ub=b,\n",
    "                   bounds = (x1_cota,x2_cota,x3_cota,x4_cota,x5_cota,x6_cota))\n",
    "res"
   ]
  },
  {
   "cell_type": "code",
   "execution_count": 41,
   "metadata": {},
   "outputs": [
    {
     "name": "stdout",
     "output_type": "stream",
     "text": [
      "El menor precio por todo es 0.52\n"
     ]
    }
   ],
   "source": [
    "print(\"El menor precio por todo es\", res.fun)"
   ]
  },
  {
   "cell_type": "code",
   "execution_count": 42,
   "metadata": {},
   "outputs": [
    {
     "name": "stdout",
     "output_type": "stream",
     "text": [
      "De Pollo se necesita  0.0 grs\n",
      "De Carne se necesita  60.0 grs\n",
      "De Cordero se necesita  0.0 grs\n",
      "De Arroz se necesita  0.0 grs\n",
      "De Trigo se necesita  0.0 grs\n",
      "De Gel se necesita  40.0 grs\n"
     ]
    }
   ],
   "source": [
    "ingre = [\"Pollo\",\"Carne\",\"Cordero\",\"Arroz\",\"Trigo\",\"Gel\"]\n",
    "for i in range (0,6,1):\n",
    "    print(\"De\",ingre[i],\"se necesita \",res.x[i],\"grs\")"
   ]
  },
  {
   "cell_type": "code",
   "execution_count": 44,
   "metadata": {
    "collapsed": true
   },
   "outputs": [],
   "source": [
    "a = (10.0*res.x[0] + 20.0*res.x[1]+ 15.0*res.x[2]+ 00.0*res.x[3]+ 04.0*res.x[4]+ 00.0*res.x[5])/100 \n",
    "b = (08.0 *res.x[0]+ 10.0 *res.x[1]+ 11.0 *res.x[2]+ 01.0 *res.x[3]+ 01.0 *res.x[4]+ 00.0 *res.x[5])/100\n",
    "c = (00.1 *res.x[0]+ 00.5 *res.x[1]+ 00.5 *res.x[2]+ 10.0 *res.x[3]+ 15.0 *res.x[4]+ 00.0 *res.x[5])/100\n",
    "d = (00.2 *res.x[0]+ 00.5 *res.x[1]+ 00.7 *res.x[2]+ 00.2 *res.x[3]+ 00.8 *res.x[4]+ 00.0 *res.x[5])/100"
   ]
  },
  {
   "cell_type": "code",
   "execution_count": 45,
   "metadata": {},
   "outputs": [
    {
     "data": {
      "text/plain": [
       "(12.0, 6.0, 0.29999999999999999, 0.29999999999999999)"
      ]
     },
     "execution_count": 45,
     "metadata": {},
     "output_type": "execute_result"
    }
   ],
   "source": [
    "a,b,c,d"
   ]
  },
  {
   "cell_type": "code",
   "execution_count": null,
   "metadata": {
    "collapsed": true
   },
   "outputs": [],
   "source": []
  }
 ],
 "metadata": {
  "kernelspec": {
   "display_name": "Python 3",
   "language": "python",
   "name": "python3"
  },
  "language_info": {
   "codemirror_mode": {
    "name": "ipython",
    "version": 3
   },
   "file_extension": ".py",
   "mimetype": "text/x-python",
   "name": "python",
   "nbconvert_exporter": "python",
   "pygments_lexer": "ipython3",
   "version": "3.6.3"
  }
 },
 "nbformat": 4,
 "nbformat_minor": 2
}
