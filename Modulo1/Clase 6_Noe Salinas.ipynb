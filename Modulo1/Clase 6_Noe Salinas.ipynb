{
 "cells": [
  {
   "cell_type": "code",
   "execution_count": null,
   "metadata": {
    "collapsed": true
   },
   "outputs": [],
   "source": [
    "import matplotlib.pyplot as plt\n",
    "%matplotlib inline\n",
    "import numpy as np\n",
    "import seaborn as sns"
   ]
  },
  {
   "cell_type": "markdown",
   "metadata": {},
   "source": [
    "Punto que se van a ajustar a la recta son:"
   ]
  },
  {
   "cell_type": "markdown",
   "metadata": {},
   "source": [
    "$(0,1)$  y  $(1,0)$"
   ]
  },
  {
   "cell_type": "code",
   "execution_count": null,
   "metadata": {},
   "outputs": [],
   "source": [
    "plt.figure(figsize = (4,4))\n",
    "plt.scatter([0,1],[1,0],c =\"g\");\n"
   ]
  },
  {
   "cell_type": "code",
   "execution_count": null,
   "metadata": {
    "collapsed": true
   },
   "outputs": [],
   "source": [
    "def recta_y(x, beta1, beta0):\n",
    "    return beta1*x + beta0"
   ]
  },
  {
   "cell_type": "code",
   "execution_count": null,
   "metadata": {
    "collapsed": true
   },
   "outputs": [],
   "source": [
    "x = np.linspace(0,1)"
   ]
  },
  {
   "cell_type": "code",
   "execution_count": null,
   "metadata": {
    "collapsed": true
   },
   "outputs": [],
   "source": [
    "sns.set_style(\"ticks\")"
   ]
  },
  {
   "cell_type": "code",
   "execution_count": null,
   "metadata": {},
   "outputs": [],
   "source": [
    "plt.figure(figsize = (4,4))\n",
    "plt.scatter([0,1],[1,0],c =\"g\");\n",
    "plt.plot(x,recta_y(x,-1,1))\n",
    "plt.show()"
   ]
  },
  {
   "cell_type": "markdown",
   "metadata": {},
   "source": [
    "# Ejercicio con datos variados"
   ]
  },
  {
   "cell_type": "code",
   "execution_count": null,
   "metadata": {
    "collapsed": true
   },
   "outputs": [],
   "source": [
    "import scipy.optimize as opt\n",
    "import matplotlib.pyplot as plt\n",
    "%matplotlib inline\n",
    "import numpy as np\n",
    "import seaborn as sns"
   ]
  },
  {
   "cell_type": "code",
   "execution_count": null,
   "metadata": {
    "collapsed": true
   },
   "outputs": [],
   "source": [
    "x = np.linspace(0,1,50)\n",
    "y = 10*x + 2 + np.random.randn(50)"
   ]
  },
  {
   "cell_type": "code",
   "execution_count": null,
   "metadata": {},
   "outputs": [],
   "source": [
    "plt.figure(figsize = (4,4))\n",
    "plt.scatter(x,y, c = \"r\");"
   ]
  },
  {
   "cell_type": "code",
   "execution_count": null,
   "metadata": {
    "collapsed": true
   },
   "outputs": [],
   "source": [
    "def fun_obj1(beta,x,y):\n",
    "    return np.sum((y-beta[0]-beta[1]*x)**2)"
   ]
  },
  {
   "cell_type": "code",
   "execution_count": null,
   "metadata": {
    "collapsed": true
   },
   "outputs": [],
   "source": [
    "def recta_y(x, beta1, beta0):\n",
    "    return beta1*x + beta0"
   ]
  },
  {
   "cell_type": "code",
   "execution_count": null,
   "metadata": {
    "collapsed": true
   },
   "outputs": [],
   "source": [
    "beta_0 = np.array([2,3])"
   ]
  },
  {
   "cell_type": "code",
   "execution_count": null,
   "metadata": {},
   "outputs": [],
   "source": [
    "res = opt.minimize(fun_obj1,beta_0, args = (x,y))\n",
    "res.x"
   ]
  },
  {
   "cell_type": "code",
   "execution_count": null,
   "metadata": {},
   "outputs": [],
   "source": [
    "plt.figure(figsize = (4,4))\n",
    "plt.scatter(x,y,c =\"g\");\n",
    "plt.plot(x, recta_y(x,res.x[1],res.x[0]))\n",
    "plt.show()"
   ]
  },
  {
   "cell_type": "markdown",
   "metadata": {},
   "source": [
    "\n",
    "# Otro ejemplo"
   ]
  },
  {
   "cell_type": "code",
   "execution_count": null,
   "metadata": {
    "collapsed": true
   },
   "outputs": [],
   "source": [
    "import scipy.optimize as opt\n",
    "import matplotlib.pyplot as plt\n",
    "%matplotlib inline\n",
    "import numpy as np\n",
    "import seaborn as sns"
   ]
  },
  {
   "cell_type": "code",
   "execution_count": null,
   "metadata": {
    "collapsed": true
   },
   "outputs": [],
   "source": [
    "x = np.linspace(0,2*np.pi,50)\n",
    "y = 10*np.sin(x) + np.random.randn(50)"
   ]
  },
  {
   "cell_type": "code",
   "execution_count": null,
   "metadata": {},
   "outputs": [],
   "source": [
    "plt.figure(figsize = (4,4))\n",
    "plt.scatter(x,y, c = \"r\");"
   ]
  },
  {
   "cell_type": "code",
   "execution_count": null,
   "metadata": {
    "collapsed": true
   },
   "outputs": [],
   "source": [
    "\n",
    "def fun_obj1(beta,x,y):\n",
    "    return np.sum((y-beta[0]-beta[1]*x)**2)\n",
    "\n",
    "def recta_y(x, beta1, beta0):\n",
    "    return beta1*x + beta0"
   ]
  },
  {
   "cell_type": "code",
   "execution_count": null,
   "metadata": {
    "collapsed": true
   },
   "outputs": [],
   "source": [
    "beta_0 = np.array([2,3])"
   ]
  },
  {
   "cell_type": "code",
   "execution_count": null,
   "metadata": {},
   "outputs": [],
   "source": [
    "res = opt.minimize(fun_obj1,beta_0, args = (x,y))\n",
    "res.x"
   ]
  },
  {
   "cell_type": "code",
   "execution_count": null,
   "metadata": {},
   "outputs": [],
   "source": [
    "plt.figure(figsize = (4,4))\n",
    "plt.scatter(x,y,c =\"g\");\n",
    "plt.plot(x, recta_y(x,res.x[1],res.x[0]))\n",
    "plt.show()"
   ]
  },
  {
   "cell_type": "code",
   "execution_count": null,
   "metadata": {},
   "outputs": [],
   "source": [
    "import scipy.optimize as opt\n",
    "import matplotlib.pyplot as plt\n",
    "%matplotlib inline\n",
    "import numpy as np\n",
    "import seaborn as sns\n",
    "\n",
    "def fun_obj2(beta,x,y):\n",
    "    return np.sum((y-beta[0]-beta[1]*x-beta[2]*x**2)**2)\n",
    "\n",
    "beta_0 = np.random.randn(3)\n",
    "res = opt.minimize(fun_obj2,beta_0, args = (x,y))\n",
    "res.x\n"
   ]
  },
  {
   "cell_type": "code",
   "execution_count": null,
   "metadata": {},
   "outputs": [],
   "source": [
    "yhat = res.x[2]*x**2 + res.x[1]*x + res.x[0]"
   ]
  },
  {
   "cell_type": "code",
   "execution_count": null,
   "metadata": {},
   "outputs": [],
   "source": [
    "plt.figure(figsize = (4,4))\n",
    "plt.scatter(x,y,c =\"g\")\n",
    "plt.plot(x, yhat)\n"
   ]
  },
  {
   "cell_type": "code",
   "execution_count": null,
   "metadata": {
    "collapsed": true
   },
   "outputs": [],
   "source": [
    "#PARABOLA\n",
    "def obj3(beta, x, y):\n",
    "    return np.sum((y-beta[0]-beta[1]*x-beta[2]*x**2-beta[3]*x**3)**2)\n",
    "b0=np.random.random((4,))"
   ]
  },
  {
   "cell_type": "code",
   "execution_count": null,
   "metadata": {},
   "outputs": [],
   "source": [
    "res = opt.minimize(obj3,b0, args = (x,y))\n",
    "res.x\n"
   ]
  },
  {
   "cell_type": "code",
   "execution_count": null,
   "metadata": {
    "collapsed": true
   },
   "outputs": [],
   "source": [
    "yhat3 = res.x[0]+res.x[1]*x+res.x[2]*x**2+res.x[3]*x**3"
   ]
  },
  {
   "cell_type": "code",
   "execution_count": null,
   "metadata": {},
   "outputs": [],
   "source": [
    "plt.figure(figsize = (4,4))\n",
    "plt.scatter(x,y,c =\"g\")\n",
    "plt.plot(x, yhat3)\n",
    "plt.show()"
   ]
  },
  {
   "cell_type": "markdown",
   "metadata": {},
   "source": [
    "Definir una funcion para un polinomio n"
   ]
  },
  {
   "cell_type": "code",
   "execution_count": null,
   "metadata": {
    "collapsed": true
   },
   "outputs": [],
   "source": [
    "import sympy as sym\n",
    "def polinomio_n(x,n,betas):\n",
    "    sym.var(\"x\")\n",
    "    tot = 0*x\n",
    "    for i in range(0,n):\n",
    "        p=betas[i]*x**i\n",
    "        tot=tot+p\n",
    "\n",
    "    return tot"
   ]
  },
  {
   "cell_type": "code",
   "execution_count": null,
   "metadata": {},
   "outputs": [],
   "source": [
    "\n",
    "sym.var(\"x\")\n",
    "betas=[3,5,7,5,4]\n",
    "polinomio_n(x,5,betas)"
   ]
  },
  {
   "cell_type": "markdown",
   "metadata": {
    "collapsed": true
   },
   "source": [
    "# Para un polinomio de grado n"
   ]
  },
  {
   "cell_type": "code",
   "execution_count": null,
   "metadata": {
    "collapsed": true
   },
   "outputs": [],
   "source": [
    "def obj(b, x, y, n):\n",
    "    \"\"\"\n",
    "    Parameters\n",
    "    x: array_like ,Coordenada eje horizontal,\n",
    "    y:array_like ,Coordenada eje horizontal,\n",
    "    b:array_like ,Coeficientes de un polinomio,\n",
    "    n:int, Grado del polinomio\n",
    "    \n",
    "    Returns\n",
    "    \n",
    "    float\n",
    "    \"\"\"\n",
    "    return np.sum((y - np.array([x**i for i in range(n + 1)]).T.dot(b))**2)"
   ]
  },
  {
   "cell_type": "code",
   "execution_count": null,
   "metadata": {
    "collapsed": true
   },
   "outputs": [],
   "source": [
    "def nyhat(x,n):\n",
    "    b = np.random.random((n+1))\n",
    "    return np.array([x**i for i in range(n + 1)]).T.dot(b)"
   ]
  },
  {
   "cell_type": "code",
   "execution_count": null,
   "metadata": {
    "collapsed": true
   },
   "outputs": [],
   "source": [
    "x = np.linspace(-1,1)"
   ]
  },
  {
   "cell_type": "code",
   "execution_count": null,
   "metadata": {},
   "outputs": [],
   "source": [
    "plt.figure(figsize =(10,10))\n",
    "for i in range(10):\n",
    "    plt.plot(x,nyhat(x, i), label = \"Orden %s\"%i)\n",
    "plt.legend()    \n",
    "plt.show()"
   ]
  },
  {
   "cell_type": "markdown",
   "metadata": {},
   "source": [
    "#  Actividad\n",
    "\n",
    "1. Ajustar polinomios de grado 1 hasta grado 7 a los siguientes datos.\n",
    "2. Graficar el error cuadrático acumulado contra el número de términos, y elegir un polinomio que ajuste bien y su grado no sea muy alto.\n",
    "4. Comparar los beta.\n",
    "\n",
    "Abrir un nuevo notebook, llamado `ActividadClase6_nombreApellido`."
   ]
  },
  {
   "cell_type": "code",
   "execution_count": 1,
   "metadata": {
    "collapsed": true
   },
   "outputs": [],
   "source": [
    "import scipy.optimize as opt\n",
    "import matplotlib.pyplot as plt\n",
    "%matplotlib inline\n",
    "import numpy as np\n",
    "import seaborn as sns"
   ]
  },
  {
   "cell_type": "code",
   "execution_count": 2,
   "metadata": {
    "collapsed": true
   },
   "outputs": [],
   "source": [
    "def f(x):\n",
    "    return np.exp(-x**2/2)/np.sqrt(2*np.pi)"
   ]
  },
  {
   "cell_type": "code",
   "execution_count": 3,
   "metadata": {},
   "outputs": [
    {
     "data": {
      "image/png": "[encoded data removed]",
      "text/plain": [
       "<matplotlib.figure.Figure at 0xca4250fdd8>"
      ]
     },
     "metadata": {},
     "output_type": "display_data"
    }
   ],
   "source": [
    "x = np.linspace(-3, 3)\n",
    "y = f(x) + 0.04*np.random.randn(50)\n",
    "\n",
    "plt.figure(figsize=(8,6))\n",
    "plt.scatter(x, y, label = 'datos')\n",
    "plt.legend(loc = 'best')\n",
    "plt.xlabel('$x$')\n",
    "plt.ylabel('$y$')\n",
    "plt.grid(True)\n",
    "plt.show()"
   ]
  },
  {
   "cell_type": "code",
   "execution_count": 18,
   "metadata": {},
   "outputs": [
    {
     "name": "stdout",
     "output_type": "stream",
     "text": [
      "[0.99346114886715808, 0.26007450763081191, 0.25987448859879747, 0.080854430438401584, 0.08083525154259269, 0.060308920159563649, 0.057551650640524483, 0.056970180742860616]\n",
      "8\n"
     ]
    },
    {
     "data": {
      "image/png": "[encoded data removed]",
      "text/plain": [
       "<matplotlib.figure.Figure at 0xca4246b5c0>"
      ]
     },
     "metadata": {},
     "output_type": "display_data"
    }
   ],
   "source": [
    "x = np.linspace(-3, 3)\n",
    "y = f(x) + 0.04*np.random.randn(50)\n",
    "e_ms = []\n",
    "def f(x):\n",
    "    return np.exp(-x**2/2)/np.sqrt(2*np.pi)\n",
    "\n",
    "def obj(b, x, y, n):\n",
    "    return np.sum((y - np.array([x**i for i in range(n + 1)]).T.dot(b))**2)\n",
    "plt.figure(figsize=(10,10))\n",
    "plt.scatter(x, y, label = 'Datos', c = \"g\")\n",
    "\n",
    "for i in range(8):\n",
    "        \n",
    "    b0 = np.random.random((i + 2,))\n",
    "    res = opt.minimize(obj, b0, args=(x,y,i + 1))\n",
    "    yhat = np.array([x**j for j in range(i + 2)]).T.dot(res.x)\n",
    "    e_ms.append(sum((y - yhat)**2))\n",
    "    plt.plot(x,np.array([x**j for j in range(i + 2)]).T.dot(res.x), label = \"Grado %s\"%(i+1))\n",
    "menor = min(e_ms)\n",
    "grado = e_ms.index(menor)+1\n",
    "print(e_ms)\n",
    "print(grado)\n",
    "plt.legend(bbox_to_anchor= [1,.92])\n",
    "plt.show()"
   ]
  },
  {
   "cell_type": "code",
   "execution_count": null,
   "metadata": {
    "collapsed": true
   },
   "outputs": [],
   "source": []
  },
  {
   "cell_type": "code",
   "execution_count": null,
   "metadata": {
    "collapsed": true
   },
   "outputs": [],
   "source": []
  }
 ],
 "metadata": {
  "kernelspec": {
   "display_name": "Python 3",
   "language": "python",
   "name": "python3"
  },
  "language_info": {
   "codemirror_mode": {
    "name": "ipython",
    "version": 3
   },
   "file_extension": ".py",
   "mimetype": "text/x-python",
   "name": "python",
   "nbconvert_exporter": "python",
   "pygments_lexer": "ipython3",
   "version": "3.6.3"
  }
 },
 "nbformat": 4,
 "nbformat_minor": 2
}
